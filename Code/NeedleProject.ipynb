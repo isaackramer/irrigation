{
 "cells": [
  {
   "cell_type": "markdown",
   "metadata": {},
   "source": [
    "## Read VWC data "
   ]
  },
  {
   "cell_type": "code",
   "execution_count": 66,
   "metadata": {},
   "outputs": [],
   "source": [
    "\n",
    "import pandas as pd\n",
    "import numpy as np\n",
    "import plotly.plotly as py\n",
    "import plotly.tools as tls\n",
    "import plotly.graph_objs as go\n",
    "import cufflinks as cf\n",
    "\n",
    "\n",
    "# Import csv file with proper datetime format\n",
    "df = pd.read_csv(\"TDR_data_clean_VWC.txt\", parse_dates={'date_time': [0]}, dayfirst = True)\n",
    "\n",
    "# Edit column header names to enable splitting later on\n",
    "df.columns = (df.columns.str.replace(' ', '_').str.replace('(', '')\n",
    "              .str.replace(')', '') .str.replace(',', '').str.replace('\\'', '')\n",
    "              .str.replace('Interface', '').str.replace('Sensor_', ''))\n",
    "\n"
   ]
  },
  {
   "cell_type": "markdown",
   "metadata": {},
   "source": [
    "### Time vs VWC\n",
    "Select the area you want to explore"
   ]
  },
  {
   "cell_type": "code",
   "execution_count": 13,
   "metadata": {},
   "outputs": [
    {
     "data": {
      "application/vnd.jupyter.widget-view+json": {
       "model_id": "ac118d36e3794a3fbb791802eaee39ef",
       "version_major": 2,
       "version_minor": 0
      },
      "text/html": [
       "<p>Failed to display Jupyter Widget of type <code>Dropdown</code>.</p>\n",
       "<p>\n",
       "  If you're reading this message in the Jupyter Notebook or JupyterLab Notebook, it may mean\n",
       "  that the widgets JavaScript is still loading. If this message persists, it\n",
       "  likely means that the widgets JavaScript library is either not installed or\n",
       "  not enabled. See the <a href=\"https://ipywidgets.readthedocs.io/en/stable/user_install.html\">Jupyter\n",
       "  Widgets Documentation</a> for setup instructions.\n",
       "</p>\n",
       "<p>\n",
       "  If you're reading this message in another frontend (for example, a static\n",
       "  rendering on GitHub or <a href=\"https://nbviewer.jupyter.org/\">NBViewer</a>),\n",
       "  it may mean that your frontend doesn't currently support widgets.\n",
       "</p>\n"
      ],
      "text/plain": [
       "Dropdown(description='Area:', options=('A', 'B', 'C', 'D', 'E', 'F', 'G', 'H', 'I', 'J'), value='A')"
      ]
     },
     "metadata": {},
     "output_type": "display_data"
    }
   ],
   "source": [
    "import ipywidgets as wg\n",
    "\n",
    "\n",
    "\n",
    "w1 = wg.Dropdown(\n",
    "    options=['A', 'B', 'C', 'D', 'E', 'F', 'G', 'H', 'I', 'J'],\n",
    "    description='Area:',\n",
    "    disabled=False,\n",
    ")\n",
    "\n",
    "\n",
    "display(w1)\n",
    "\n",
    "\n"
   ]
  },
  {
   "cell_type": "code",
   "execution_count": 21,
   "metadata": {},
   "outputs": [
    {
     "name": "stdout",
     "output_type": "stream",
     "text": [
      "The draw time for this plot will be slow for all clients.\n"
     ]
    },
    {
     "name": "stderr",
     "output_type": "stream",
     "text": [
      "C:\\Users\\karin\\Anaconda3\\lib\\site-packages\\plotly\\api\\v1\\clientresp.py:40: UserWarning:\n",
      "\n",
      "Estimated Draw Time Too Long\n",
      "\n"
     ]
    },
    {
     "data": {
      "text/html": [
       "<iframe id=\"igraph\" scrolling=\"no\" style=\"border:none;\" seamless=\"seamless\" src=\"https://plot.ly/~karin_carmely/4.embed\" height=\"525px\" width=\"100%\"></iframe>"
      ],
      "text/plain": [
       "<plotly.tools.PlotlyDisplay object>"
      ]
     },
     "execution_count": 21,
     "metadata": {},
     "output_type": "execute_result"
    }
   ],
   "source": [
    "import plotly.graph_objs as go\n",
    "\n",
    "area = w1.value\n",
    "sensor1 = go.Scatter(x= df['date_time'], y= df[area + \"_VWC_1\"])\n",
    "sensor2 = go.Scatter(x= df['date_time'], y= df[area + \"_VWC_2\"])\n",
    "sensor3 = go.Scatter(x= df['date_time'], y= df[area + \"_VWC_3\"])\n",
    "\n",
    "\n",
    "data = [sensor1, sensor2, sensor3]\n",
    "\n",
    "layout = go.Layout(\n",
    "    title='Time vs Volumetric Water Content',\n",
    "    xaxis=dict(\n",
    "        title='Time',\n",
    "        titlefont=dict(\n",
    "            family='Courier New, monospace',\n",
    "            size=18,\n",
    "            color='#7f7f7f'\n",
    "        )\n",
    "    ),\n",
    "    yaxis=dict(\n",
    "        title='Water Content',\n",
    "        titlefont=dict(\n",
    "            family='Courier New, monospace',\n",
    "            size=18,\n",
    "            color='#7f7f7f'\n",
    "        )\n",
    "    )\n",
    ")\n",
    "\n",
    "fig = go.Figure(data=data, layout=layout)\n",
    "py.iplot(fig, filename='time vs VWC')\n",
    "\n"
   ]
  },
  {
   "cell_type": "markdown",
   "metadata": {},
   "source": []
  },
  {
   "cell_type": "markdown",
   "metadata": {},
   "source": [
    "## Time vs Irriugation"
   ]
  },
  {
   "cell_type": "code",
   "execution_count": 70,
   "metadata": {},
   "outputs": [
    {
     "name": "stdout",
     "output_type": "stream",
     "text": [
      "The draw time for this plot will be slow for all clients.\n"
     ]
    },
    {
     "name": "stderr",
     "output_type": "stream",
     "text": [
      "C:\\Users\\karin\\Anaconda3\\lib\\site-packages\\plotly\\api\\v1\\clientresp.py:40: UserWarning:\n",
      "\n",
      "Estimated Draw Time Too Long\n",
      "\n"
     ]
    },
    {
     "data": {
      "text/html": [
       "<iframe id=\"igraph\" scrolling=\"no\" style=\"border:none;\" seamless=\"seamless\" src=\"https://plot.ly/~karin_carmely/10.embed\" height=\"525px\" width=\"100%\"></iframe>"
      ],
      "text/plain": [
       "<plotly.tools.PlotlyDisplay object>"
      ]
     },
     "execution_count": 70,
     "metadata": {},
     "output_type": "execute_result"
    }
   ],
   "source": [
    "import time\n",
    "import datetime\n",
    "\n",
    "irrigation_df = pd.read_csv(\"Irrigation.txt\", parse_dates={'date_time': [0]}, dayfirst = True)\n",
    "\n",
    "irrigation_df['date'] = pd.to_datetime(irrigation_df['date_time'])\n",
    "\n",
    "t1 = go.Bar(\n",
    "   x=irrigation_df['date'],\n",
    "    y=irrigation_df['A'],\n",
    "    name='Irrigation area A'\n",
    ")\n",
    "\n",
    "t2 = go.Bar(\n",
    "   x=irrigation_df['date'],\n",
    "    y=irrigation_df['B'],\n",
    "    name='Irrigation area B'\n",
    ")\n",
    "\n",
    "t3 = go.Bar(\n",
    "   x=irrigation_df['date'],\n",
    "    y=irrigation_df['C'],\n",
    "    name='Irrigation area C'\n",
    ")\n",
    "\n",
    "t4 = go.Bar(\n",
    "   x=irrigation_df['date'],\n",
    "    y=irrigation_df['D'],\n",
    "    name='Irrigation area D'\n",
    ")\n",
    "\n",
    "t5 = go.Bar(\n",
    "   x=irrigation_df['date'],\n",
    "    y=irrigation_df['E'],\n",
    "    name='Irrigation area E'\n",
    ")\n",
    "\n",
    "t6 = go.Bar(\n",
    "   x=irrigation_df['date'],\n",
    "    y=irrigation_df['F'],\n",
    "    name='Irrigation area F'\n",
    ")\n",
    "\n",
    "t7 = go.Bar(\n",
    "   x=irrigation_df['date'],\n",
    "    y=irrigation_df['G'],\n",
    "    name='Irrigation area G'\n",
    ")\n",
    "\n",
    "t8 = go.Bar(\n",
    "   x=irrigation_df['date'],\n",
    "    y=irrigation_df['H'],\n",
    "    name='Irrigation area H'\n",
    ")\n",
    "\n",
    "t9 = go.Bar(\n",
    "   x=irrigation_df['date'],\n",
    "    y=irrigation_df['I'],\n",
    "    name='Irrigation area I'\n",
    ")\n",
    "\n",
    "t10 = go.Bar(\n",
    "   x=irrigation_df['date'],\n",
    "    y=irrigation_df['J'],\n",
    "    name='Irrigation area J'\n",
    ")\n",
    "\n",
    "data = [t1, t2, t3, t4, t5, t6, t7, t8, t9, t10]\n",
    "\n",
    "layout = go.Layout( title='Time vs Irrigation',\n",
    "    xaxis=dict(\n",
    "        title='Time',\n",
    "        titlefont=dict(\n",
    "            family='Courier New, monospace',\n",
    "            size=18,\n",
    "            color='#7f7f7f'\n",
    "        )\n",
    "    ),\n",
    "    yaxis=dict(\n",
    "        title='Irrigation',\n",
    "        titlefont=dict(\n",
    "            family='Courier New, monospace',\n",
    "            size=18,\n",
    "            color='#7f7f7f'\n",
    "        )\n",
    "    ))\n",
    "\n",
    "\n",
    "\n",
    "\n",
    "fig = go.Figure(data=data, layout=layout)\n",
    "py.iplot(fig, filename='time vs irrigation')"
   ]
  },
  {
   "cell_type": "markdown",
   "metadata": {},
   "source": [
    "## DTW distances matrix"
   ]
  },
  {
   "cell_type": "code",
   "execution_count": 28,
   "metadata": {},
   "outputs": [
    {
     "data": {
      "image/png": "[encoded data removed]",
      "text/plain": [
       "<Figure size 432x288 with 2 Axes>"
      ]
     },
     "metadata": {},
     "output_type": "display_data"
    }
   ],
   "source": [
    "import numpy as np\n",
    "import pandas as pd\n",
    "import seaborn as sns\n",
    "import matplotlib.pyplot as plt\n",
    "from scipy.spatial.distance import pdist, squareform\n",
    "from dtw import accelerated_dtw\n",
    "from enum import Enum\n",
    "\n",
    "\n",
    "class Distances:\n",
    "    debug = True\n",
    "\n",
    "    # noinspection SpellCheckingInspection\n",
    "    @staticmethod\n",
    "    def dtw_matrix(dataframe, sampling_rate='2H'):\n",
    "        \"\"\"Returns a data frame containing dynamic time warping (DTW) distances matrix of the input data frame.\n",
    "            The data must not contain any NaN values.\n",
    "            Args:\n",
    "                :param dataframe: a data frame containing the data columns we want to compare\n",
    "                :type dataframe: pandas.DataFrame\n",
    "\n",
    "                :param sampling_rate:\n",
    "                :type sampling_rate: str\n",
    "\n",
    "            :return: a data frame containing dynamic time warping (DTW) distances matrix of the input data frame.\n",
    "            :rtype: object\n",
    "        \"\"\"\n",
    "\n",
    "        assert (not dataframe.isna().values.any()), \"The data frame must not contain any NaN values\"\n",
    "\n",
    "        df_downsampled = dataframe.resample(sampling_rate).mean()\n",
    "        values = df_downsampled.values.T\n",
    "        num_interfaces, _ = values.shape\n",
    "        distances_matrix = np.zeros((num_interfaces, num_interfaces))\n",
    "        for i in range(num_interfaces):\n",
    "            for j in range(i + 1, num_interfaces):\n",
    "                d, _, _, _ = accelerated_dtw(values[i, :], values[j, :], dist=lambda x, y: np.abs(x - y))\n",
    "#                 if Distances.debug:\n",
    "#                     print(\"Finsihed comparing\", dataframe.columns[i], \"and\", dataframe.columns[j])\n",
    "                distances_matrix[i, j] = distances_matrix[j, i] = d\n",
    "            # Convert into a data frame\n",
    "        distances_matrix_df = (lambda v, c: pd.DataFrame(v, c, c))(distances_matrix, dataframe.columns)\n",
    "        return distances_matrix_df\n",
    "\n",
    "    # noinspection SpellCheckingInspection\n",
    "    @staticmethod\n",
    "    def p_norm(dataframe, p=2, matrix_dist=False):\n",
    "        \"\"\" Returns a data frame containing p-norm distances matrix of the input data frame.\n",
    "            The data must not contain any NaN values.\n",
    "\n",
    "            Args:\n",
    "                :param dataframe: a data frame containing the data columns we want to compare\n",
    "                :type dataframe: pandas.DataFrame\n",
    "\n",
    "                :param p: determines which p-norm to use (defaults to 2, and has to be >= 1)\n",
    "                :type p: int (optional; defaults to 2)\n",
    "\n",
    "                :param matrix_dist: if it is true, the data frame is treated as a collection of 3-columned matrices\n",
    "                :type matrix_dist: bool (optional; defaults to False)\n",
    "\n",
    "            :return: a data frame containing p-norm distances matrix of the input data frame.\n",
    "            :rtype: pandas.DataFrame\n",
    "        \"\"\"\n",
    "\n",
    "        assert (p >= 1 and p == int(p)), \"p has to be an int >= 1\"\n",
    "        assert (not dataframe.isna().values.any()), \"The data frame must not contain any NaN values\"\n",
    "\n",
    "        if not matrix_dist:\n",
    "            # We use the transpose values matrix so the columns become row vectors for pdist\n",
    "            values = dataframe.values.T\n",
    "            new_cols = dataframe.columns\n",
    "\n",
    "        else:\n",
    "            num_cols = len(dataframe.columns.tolist())\n",
    "            values = dataframe.values.T.reshape(int(num_cols / 3), -1)\n",
    "            original_cols = dataframe.columns.tolist()\n",
    "            new_cols = pd.Index(sorted(list(set([title[0] + title[-1] for title in original_cols]))))\n",
    "\n",
    "        # calculate distances\n",
    "        distances_matrix = squareform(pdist(values, metric='minkowski', p=p))\n",
    "        # Convert into a data frame\n",
    "        distances_matrix_df = (lambda v, c: pd.DataFrame(v, c, c))(distances_matrix, new_cols)\n",
    "        return distances_matrix_df\n",
    "\n",
    "\n",
    "def get_new_cols(original_cols):\n",
    "    new_cols = [original_cols[0]]\n",
    "    interfaces = [c + '_' for c in \"ABCDEFGHI\"]\n",
    "    for interface in interfaces:\n",
    "        for ind in ['_1', '_2', '_3']:\n",
    "            for meas in ['VWC', 'Soil_Temperature', 'BulkEC']:\n",
    "                new_col_title = interface + meas + ind\n",
    "                if new_col_title in original_cols:\n",
    "                    new_cols.append(new_col_title)\n",
    "    return new_cols\n",
    "\n",
    "\n",
    "class TestCase(Enum):\n",
    "    VWC_P_NORM = 1\n",
    "    FULL_DATA_P_NORM = 2\n",
    "    VWC_DTW = 3\n",
    "\n",
    "\n",
    "# Simple example\n",
    "if __name__ == \"__main__\":\n",
    "\n",
    "    # change this number to try different tests (see the TestCase class enumeration)\n",
    "    tc = 3\n",
    "\n",
    "    if tc == TestCase.VWC_P_NORM.value:\n",
    "        # Import csv file with proper datetime format\n",
    "        df = pd.read_csv(\"nan_reduced_VWC.txt\", parse_dates={'date_time': [0]}, dayfirst=True)\n",
    "\n",
    "        # Edit column header names to enable splitting later on\n",
    "        df.columns = (df.columns.str.replace(' ', '_').str.replace('(', '')\n",
    "                      .str.replace(')', '').str.replace(',', '').str.replace('\\'', '')\n",
    "                      .str.replace('Interface', '').str.replace('Sensor_', ''))\n",
    "\n",
    "        # remove first column (date-time)\n",
    "        df_no_date = df.drop(df.columns[0], axis=1)\n",
    "        # we interpolate the dataframe in order to replace NaN values\n",
    "        df_no_date_interpolated = df_no_date.interpolate()\n",
    "\n",
    "        euclidean_dists_df = Distances.p_norm(df_no_date_interpolated)\n",
    "        plt.figure()\n",
    "        sns.heatmap(euclidean_dists_df, cmap=\"hot\")\n",
    "        plt.title(\"Euclidean distances matrix - VWC data\")\n",
    "        plt.show()\n",
    "\n",
    "        L1_dists_df = Distances.p_norm(df_no_date_interpolated, p=1)\n",
    "        plt.figure()\n",
    "        sns.heatmap(L1_dists_df, cmap=\"hot\")\n",
    "        plt.title(\"L1 distances matrix - VWC data\")\n",
    "        plt.show()\n",
    "\n",
    "    elif tc == TestCase.FULL_DATA_P_NORM.value:\n",
    "        df2 = pd.read_csv(\"nan_reduced_no_permitivity.txt\", parse_dates={'date_time': [0]}, dayfirst=True)\n",
    "\n",
    "        # Edit column header names to enable splitting later on\n",
    "        df2.columns = (df2.columns.str.replace(' ', '_').str.replace('(', '')\n",
    "                       .str.replace(')', '').str.replace(',', '').str.replace('\\'', '')\n",
    "                       .str.replace('Interface', '').str.replace('Sensor_', ''))\n",
    "\n",
    "        original_cols = df2.columns.tolist()\n",
    "        new_cols = get_new_cols(original_cols)\n",
    "        df2 = df2[new_cols]\n",
    "        df2_no_date = df2.drop(df2.columns[0], axis=1)\n",
    "        df2_no_date_interpolated = df2_no_date.interpolate()\n",
    "\n",
    "        euclidean_dists_df2 = Distances.p_norm(df2_no_date_interpolated, matrix_dist=True)\n",
    "        plt.figure()\n",
    "        sns.heatmap(euclidean_dists_df2, cmap=\"hot\")\n",
    "        plt.title(\"Euclidean distances matrix - full data\")\n",
    "        plt.show()\n",
    "\n",
    "    elif tc == TestCase.VWC_DTW.value:\n",
    "        # Import csv file with proper datetime format\n",
    "        df3 = pd.read_csv(\"nan_reduced_VWC.txt\", parse_dates={'date_time': [0]}, dayfirst=True)\n",
    "\n",
    "        # Edit column header names to enable splitting later on\n",
    "        df3.columns = (df3.columns.str.replace(' ', '_').str.replace('(', '')\n",
    "                       .str.replace(')', '').str.replace(',', '').str.replace('\\'', '')\n",
    "                       .str.replace('Interface', '').str.replace('Sensor_', ''))\n",
    "\n",
    "        df3 = df3.set_index('date_time')\n",
    "\n",
    "        # we interpolate the dataframe in order to replace NaN values\n",
    "        df3_interpolated = df3.interpolate()\n",
    "\n",
    "        SAMPLING_RATE = '3H'\n",
    "        dtw_df = Distances.dtw_matrix(df3_interpolated, SAMPLING_RATE)\n",
    "        dtw_df.to_pickle('dtw_distances_' + SAMPLING_RATE + '_sampling.pkl')\n",
    "        plt.figure()\n",
    "        sns.heatmap(dtw_df, cmap=\"hot\")\n",
    "        plt.title(\"DTW distances matrix with sampling rate of \" + SAMPLING_RATE)\n",
    "        plt.show()\n",
    "\n"
   ]
  },
  {
   "cell_type": "markdown",
   "metadata": {},
   "source": [
    "## Hierarchical clustering"
   ]
  },
  {
   "cell_type": "code",
   "execution_count": 18,
   "metadata": {
    "scrolled": true
   },
   "outputs": [
    {
     "data": {
      "image/png": "[encoded data removed]",
      "text/plain": [
       "<Figure size 432x288 with 1 Axes>"
      ]
     },
     "metadata": {},
     "output_type": "display_data"
    }
   ],
   "source": [
    "from scipy.cluster.hierarchy import linkage, dendrogram\n",
    "from scipy.spatial.distance import squareform\n",
    "\n",
    "df2 = pd.read_pickle('dtw_distances_H_sampling.pkl')\n",
    "condensed_distance_matrix = squareform(df2.values)\n",
    "Z = linkage(condensed_distance_matrix, metric='precomputed')\n",
    "dendrogram(Z, orientation='right', labels=df2.columns.tolist())\n",
    "\n",
    "plt.show()\n"
   ]
  },
  {
   "cell_type": "code",
   "execution_count": null,
   "metadata": {},
   "outputs": [],
   "source": []
  }
 ],
 "metadata": {
  "kernelspec": {
   "display_name": "Python 3",
   "language": "python",
   "name": "python3"
  },
  "language_info": {
   "codemirror_mode": {
    "name": "ipython",
    "version": 3
   },
   "file_extension": ".py",
   "mimetype": "text/x-python",
   "name": "python",
   "nbconvert_exporter": "python",
   "pygments_lexer": "ipython3",
   "version": "3.6.4"
  }
 },
 "nbformat": 4,
 "nbformat_minor": 2
}
